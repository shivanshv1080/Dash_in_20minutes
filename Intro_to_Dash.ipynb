{
 "cells": [
  {
   "cell_type": "markdown",
   "id": "d6f6a1c5-dd70-4b4b-87ea-44c486d76931",
   "metadata": {},
   "source": [
    "## Basic Building Block of Dash"
   ]
  },
  {
   "cell_type": "code",
   "execution_count": 1,
   "id": "6ecdcfcf-c2bf-4764-9461-00c801a75376",
   "metadata": {},
   "outputs": [
    {
     "data": {
      "text/html": [
       "\n",
       "        <iframe\n",
       "            width=\"100%\"\n",
       "            height=\"650\"\n",
       "            src=\"http://127.0.0.1:8052/\"\n",
       "            frameborder=\"0\"\n",
       "            allowfullscreen\n",
       "            \n",
       "        ></iframe>\n",
       "        "
      ],
      "text/plain": [
       "<IPython.lib.display.IFrame at 0x7fb4d0b57d60>"
      ]
     },
     "metadata": {},
     "output_type": "display_data"
    }
   ],
   "source": [
    "# Starting with Hello World\n",
    "from dash import Dash,html\n",
    "\n",
    "app = Dash(__name__)\n",
    "\n",
    "app.layout = html.Div('Hello World')\n",
    "\n",
    "# app.layout = html.Div(\n",
    "#     [\n",
    "#         html.Div(children='Hello World')\n",
    "#     ]\n",
    "# )\n",
    "\n",
    "# Both code above will give same result it's just it Div within a Div\n",
    "if __name__=='__main__':\n",
    "    app.run_server(port = 8052) # Change port if other port is already in use."
   ]
  },
  {
   "cell_type": "code",
   "execution_count": null,
   "id": "89f98eae-2092-4e13-b955-b612ed5f988d",
   "metadata": {},
   "outputs": [],
   "source": [
    "# Importing the Libraries\n",
    "from dash import Dash,html"
   ]
  },
  {
   "cell_type": "code",
   "execution_count": null,
   "id": "9089a2cc-9a0e-4a0e-bdbd-6986d5bb5a96",
   "metadata": {},
   "outputs": [],
   "source": [
    "# Initializing the app\n",
    "\n",
    "app = Dash(__name__)  # Known as Dash constructor will initialise the app"
   ]
  },
  {
   "cell_type": "code",
   "execution_count": null,
   "id": "4c8c76b3-eaa1-44bb-b8d9-529b99839ee8",
   "metadata": {},
   "outputs": [],
   "source": [
    "# App Layout --> It represents the app components that will be displayed in the web browser.\n",
    "# Below is Single componenet added\n",
    "app.layout = html.Div([\n",
    "    html.Div('Hello World')\n",
    "])"
   ]
  },
  {
   "cell_type": "code",
   "execution_count": null,
   "id": "f237bd4f-e378-40d8-971a-e85c8858ad67",
   "metadata": {},
   "outputs": [],
   "source": [
    "# Run the app\n",
    "\n",
    "if __name__=='__main__':\n",
    "    # app.run_server(port=5032)\n",
    "    app.run(port=5031)"
   ]
  },
  {
   "cell_type": "code",
   "execution_count": null,
   "id": "b879de8d-dc1e-4e96-bd63-e5640a7626f2",
   "metadata": {},
   "outputs": [],
   "source": []
  },
  {
   "cell_type": "markdown",
   "id": "0d734703-aef4-4e6f-9027-d6ca538109a2",
   "metadata": {},
   "source": [
    "# Connecting to Data"
   ]
  },
  {
   "cell_type": "code",
   "execution_count": null,
   "id": "60637ef6-6566-431a-967a-c5d92d358c3b",
   "metadata": {},
   "outputs": [],
   "source": [
    "# There are many ways to add data to an app: APIs,external databases,local .txt files, JSON files and more."
   ]
  },
  {
   "cell_type": "code",
   "execution_count": 63,
   "id": "d8d7ac2f-c0fe-4b4e-898a-f045a191dfc0",
   "metadata": {},
   "outputs": [
    {
     "data": {
      "text/html": [
       "\n",
       "        <iframe\n",
       "            width=\"100%\"\n",
       "            height=\"650\"\n",
       "            src=\"http://127.0.0.1:9012/\"\n",
       "            frameborder=\"0\"\n",
       "            allowfullscreen\n",
       "            \n",
       "        ></iframe>\n",
       "        "
      ],
      "text/plain": [
       "<IPython.lib.display.IFrame at 0x7fb454a08eb0>"
      ]
     },
     "metadata": {},
     "output_type": "display_data"
    }
   ],
   "source": [
    "# Importing the libraries\n",
    "from dash import Dash,html,dash_table\n",
    "import pandas as pd\n",
    "\n",
    "# Incorporating the Data\n",
    "df = pd.read_csv('https://raw.githubusercontent.com/plotly/datasets/master/gapminder2007.csv')\n",
    "\n",
    "# Initialise the app\n",
    "app = Dash(__name__)\n",
    "\n",
    "# App layout\n",
    "app.layout = html.Div([\n",
    "    html.Div(children = 'My first app with Data'),\n",
    "    dash_table.DataTable(data=df.to_dict('records'),page_size = 20)\n",
    "])\n",
    "\n",
    "# Run the app\n",
    "if __name__ == '__main__':\n",
    "    app.run(debug=True,port=9012)"
   ]
  },
  {
   "cell_type": "code",
   "execution_count": 18,
   "id": "4ad54faa-c5a4-4e4a-bc3d-f4bef2048162",
   "metadata": {},
   "outputs": [
    {
     "data": {
      "text/html": [
       "<div>\n",
       "<style scoped>\n",
       "    .dataframe tbody tr th:only-of-type {\n",
       "        vertical-align: middle;\n",
       "    }\n",
       "\n",
       "    .dataframe tbody tr th {\n",
       "        vertical-align: top;\n",
       "    }\n",
       "\n",
       "    .dataframe thead th {\n",
       "        text-align: right;\n",
       "    }\n",
       "</style>\n",
       "<table border=\"1\" class=\"dataframe\">\n",
       "  <thead>\n",
       "    <tr style=\"text-align: right;\">\n",
       "      <th></th>\n",
       "      <th>country</th>\n",
       "      <th>pop</th>\n",
       "      <th>continent</th>\n",
       "      <th>lifeExp</th>\n",
       "      <th>gdpPercap</th>\n",
       "    </tr>\n",
       "  </thead>\n",
       "  <tbody>\n",
       "    <tr>\n",
       "      <th>0</th>\n",
       "      <td>Afghanistan</td>\n",
       "      <td>31889923.0</td>\n",
       "      <td>Asia</td>\n",
       "      <td>43.828</td>\n",
       "      <td>974.580338</td>\n",
       "    </tr>\n",
       "    <tr>\n",
       "      <th>1</th>\n",
       "      <td>Albania</td>\n",
       "      <td>3600523.0</td>\n",
       "      <td>Europe</td>\n",
       "      <td>76.423</td>\n",
       "      <td>5937.029526</td>\n",
       "    </tr>\n",
       "    <tr>\n",
       "      <th>2</th>\n",
       "      <td>Algeria</td>\n",
       "      <td>33333216.0</td>\n",
       "      <td>Africa</td>\n",
       "      <td>72.301</td>\n",
       "      <td>6223.367465</td>\n",
       "    </tr>\n",
       "    <tr>\n",
       "      <th>3</th>\n",
       "      <td>Angola</td>\n",
       "      <td>12420476.0</td>\n",
       "      <td>Africa</td>\n",
       "      <td>42.731</td>\n",
       "      <td>4797.231267</td>\n",
       "    </tr>\n",
       "    <tr>\n",
       "      <th>4</th>\n",
       "      <td>Argentina</td>\n",
       "      <td>40301927.0</td>\n",
       "      <td>Americas</td>\n",
       "      <td>75.320</td>\n",
       "      <td>12779.379640</td>\n",
       "    </tr>\n",
       "    <tr>\n",
       "      <th>...</th>\n",
       "      <td>...</td>\n",
       "      <td>...</td>\n",
       "      <td>...</td>\n",
       "      <td>...</td>\n",
       "      <td>...</td>\n",
       "    </tr>\n",
       "    <tr>\n",
       "      <th>137</th>\n",
       "      <td>Vietnam</td>\n",
       "      <td>85262356.0</td>\n",
       "      <td>Asia</td>\n",
       "      <td>74.249</td>\n",
       "      <td>2441.576404</td>\n",
       "    </tr>\n",
       "    <tr>\n",
       "      <th>138</th>\n",
       "      <td>West Bank and Gaza</td>\n",
       "      <td>4018332.0</td>\n",
       "      <td>Asia</td>\n",
       "      <td>73.422</td>\n",
       "      <td>3025.349798</td>\n",
       "    </tr>\n",
       "    <tr>\n",
       "      <th>139</th>\n",
       "      <td>Yemen, Rep.</td>\n",
       "      <td>22211743.0</td>\n",
       "      <td>Asia</td>\n",
       "      <td>62.698</td>\n",
       "      <td>2280.769906</td>\n",
       "    </tr>\n",
       "    <tr>\n",
       "      <th>140</th>\n",
       "      <td>Zambia</td>\n",
       "      <td>11746035.0</td>\n",
       "      <td>Africa</td>\n",
       "      <td>42.384</td>\n",
       "      <td>1271.211593</td>\n",
       "    </tr>\n",
       "    <tr>\n",
       "      <th>141</th>\n",
       "      <td>Zimbabwe</td>\n",
       "      <td>12311143.0</td>\n",
       "      <td>Africa</td>\n",
       "      <td>43.487</td>\n",
       "      <td>469.709298</td>\n",
       "    </tr>\n",
       "  </tbody>\n",
       "</table>\n",
       "<p>142 rows × 5 columns</p>\n",
       "</div>"
      ],
      "text/plain": [
       "                country         pop continent  lifeExp     gdpPercap\n",
       "0           Afghanistan  31889923.0      Asia   43.828    974.580338\n",
       "1               Albania   3600523.0    Europe   76.423   5937.029526\n",
       "2               Algeria  33333216.0    Africa   72.301   6223.367465\n",
       "3                Angola  12420476.0    Africa   42.731   4797.231267\n",
       "4             Argentina  40301927.0  Americas   75.320  12779.379640\n",
       "..                  ...         ...       ...      ...           ...\n",
       "137             Vietnam  85262356.0      Asia   74.249   2441.576404\n",
       "138  West Bank and Gaza   4018332.0      Asia   73.422   3025.349798\n",
       "139         Yemen, Rep.  22211743.0      Asia   62.698   2280.769906\n",
       "140              Zambia  11746035.0    Africa   42.384   1271.211593\n",
       "141            Zimbabwe  12311143.0    Africa   43.487    469.709298\n",
       "\n",
       "[142 rows x 5 columns]"
      ]
     },
     "execution_count": 18,
     "metadata": {},
     "output_type": "execute_result"
    }
   ],
   "source": [
    "df"
   ]
  },
  {
   "cell_type": "code",
   "execution_count": null,
   "id": "05621438-b0f5-4792-ab4f-0660b78cf558",
   "metadata": {},
   "outputs": [],
   "source": []
  },
  {
   "cell_type": "code",
   "execution_count": null,
   "id": "f9ebef3d-827a-4137-b63b-caec931f3715",
   "metadata": {},
   "outputs": [],
   "source": [
    "# We can also use Excel Sheet, pip install openpyxl\n",
    "# df = pd.read_excel('NameOfYourFile.xlsx', sheet_name='Sheet1')"
   ]
  },
  {
   "cell_type": "markdown",
   "id": "2e5e7655-1d69-4ec4-b5ee-2fc4c812605a",
   "metadata": {},
   "source": [
    "## Visualizing Data"
   ]
  },
  {
   "cell_type": "code",
   "execution_count": null,
   "id": "1751a655-ed9a-48f4-9be2-6ddbb09b596a",
   "metadata": {},
   "outputs": [],
   "source": [
    "# Importing the Library\n",
    "from dash import Dash,html,dash_table,dcc\n",
    "import pandas as pd\n",
    "import plotly.express as px\n",
    "\n",
    "# Incorportating the Data\n",
    "df = pd.read_csv(\"https://raw.githubusercontent.com/plotly/datasets/master/gapminder2007.csv\")\n",
    " \n",
    "# Intializing the app\n",
    "app = Dash(__name__)\n",
    "\n",
    "# App Layout\n",
    "app.layout = html.Div([\n",
    "    html.Div(children='My first app with Data and a Graph'),\n",
    "    dash_table.DataTable(data = df.to_dict('records'),page_size=15),\n",
    "    dcc.Graph(figure = px.histogram(df,x = 'continent',y='lifeExp',histfunc='avg'))\n",
    "             \n",
    "])\n",
    "\n",
    "# Run the app\n",
    "if __name__=='__main__':\n",
    "    app.run(debug=True,port=9012)"
   ]
  },
  {
   "cell_type": "code",
   "execution_count": null,
   "id": "83b1ea1c-7365-45aa-b607-81b7ee0a0374",
   "metadata": {},
   "outputs": [],
   "source": [
    "# dcc.Graph used to render interactive graphs"
   ]
  },
  {
   "cell_type": "code",
   "execution_count": null,
   "id": "df3e9301-60e9-48cc-9df7-97b7a3f36fa8",
   "metadata": {},
   "outputs": [],
   "source": []
  },
  {
   "cell_type": "code",
   "execution_count": null,
   "id": "5d44d85c-50fc-4cd2-8c42-9a7d22bf96c3",
   "metadata": {},
   "outputs": [],
   "source": []
  },
  {
   "cell_type": "code",
   "execution_count": null,
   "id": "49d02ab7-c068-4b30-9567-b1b3755ff9cf",
   "metadata": {},
   "outputs": [],
   "source": [
    "# So far we have build a static app that displays tabular data and a graph.\n",
    "# Now let's give user more freedom to interact with the app and explore the data in greater depth"
   ]
  },
  {
   "cell_type": "markdown",
   "id": "745b1b91-7f96-45b8-8429-48ed2e86a099",
   "metadata": {},
   "source": [
    "# Controls and Callbacks"
   ]
  },
  {
   "cell_type": "code",
   "execution_count": null,
   "id": "9b776f3b-cfc4-403c-801d-5533f650ce71",
   "metadata": {},
   "outputs": [],
   "source": [
    "# For this we will build the callback to create the interaction between the radio buttons and histogram chart."
   ]
  },
  {
   "cell_type": "code",
   "execution_count": 64,
   "id": "7757db33-915c-4dbf-9915-1fa439150800",
   "metadata": {},
   "outputs": [
    {
     "data": {
      "text/html": [
       "\n",
       "        <iframe\n",
       "            width=\"100%\"\n",
       "            height=\"650\"\n",
       "            src=\"http://127.0.0.1:9120/\"\n",
       "            frameborder=\"0\"\n",
       "            allowfullscreen\n",
       "            \n",
       "        ></iframe>\n",
       "        "
      ],
      "text/plain": [
       "<IPython.lib.display.IFrame at 0x7fb4e406ef70>"
      ]
     },
     "metadata": {},
     "output_type": "display_data"
    }
   ],
   "source": [
    "# Importing the libraries\n",
    "from dash import Dash,html,dcc,dash_table,callback,Output,Input\n",
    "# from dash.dependencies import Output,Input\n",
    "import pandas as pd\n",
    "import plotly.express as px\n",
    "\n",
    "# Incorportating the Data\n",
    "df = pd.read_csv('https://raw.githubusercontent.com/plotly/datasets/master/gapminder2007.csv')\n",
    "\n",
    "# Initialise the app\n",
    "app = Dash(__name__)\n",
    "\n",
    "# App layout\n",
    "\n",
    "app.layout = html.Div(\n",
    "    [\n",
    "        html.Div(children = 'My first app with Data,graph, and controls'),\n",
    "        html.Hr(),\n",
    "        dcc.RadioItems(id='radio-buttons',options = ['pop','lifeExp','gdpPercap'],value='lifeExp'),\n",
    "        dash_table.DataTable(df.to_dict('records'),page_size=12),\n",
    "        dcc.Graph(id = 'graphing',figure={})\n",
    "        \n",
    "    ]\n",
    ")\n",
    "\n",
    "# Adding controls to build interaction\n",
    "@callback(\n",
    "    Output(component_id='graphing', component_property='figure'),\n",
    "    Input(component_id='radio-buttons', component_property='value')\n",
    ")\n",
    "# @app.callback(Output('graphing','figure'),Input('radio-buttons','value'))  # This I have learned from the Udemy Course\n",
    "def update_graph(col_chosen):\n",
    "    fig = px.histogram(df,x = 'continent',y = col_chosen,histfunc='avg')\n",
    "    return fig\n",
    "\n",
    "# Run the app\n",
    "if __name__=='__main__':\n",
    "    app.run(debug=True,port = 9120)"
   ]
  },
  {
   "cell_type": "code",
   "execution_count": 5,
   "id": "613d1639-2bb1-489d-a9a8-777c255e7782",
   "metadata": {},
   "outputs": [],
   "source": [
    "# dcc.RadioItems \n",
    "# RadioItems and Graph Components were given id names: these will be used to callback to identify the components."
   ]
  },
  {
   "cell_type": "code",
   "execution_count": null,
   "id": "c2baea0c-6b2c-46c8-890b-cdde22c136a5",
   "metadata": {},
   "outputs": [],
   "source": []
  },
  {
   "cell_type": "code",
   "execution_count": null,
   "id": "2ffb0d1a-b7d8-4ec9-ab03-61ed5d7883a3",
   "metadata": {},
   "outputs": [],
   "source": []
  },
  {
   "cell_type": "code",
   "execution_count": null,
   "id": "28cf6ae5-2434-4f59-9995-79ae30813136",
   "metadata": {},
   "outputs": [],
   "source": []
  },
  {
   "cell_type": "markdown",
   "id": "5fd2a406-412f-4be5-846d-b9f4b76663d7",
   "metadata": {},
   "source": [
    "# Styling your App"
   ]
  },
  {
   "cell_type": "markdown",
   "id": "de2f79d6-8090-492c-b67c-68881217a833",
   "metadata": {},
   "source": [
    "### HTML and CSS"
   ]
  },
  {
   "cell_type": "code",
   "execution_count": null,
   "id": "f84a6053-2ecf-44d0-8b4f-919a49f24f9c",
   "metadata": {},
   "outputs": [],
   "source": [
    "# Lowest level of interface for rendering content on the web.\n",
    "# CSS styles can be applied withing components via the style property, or they can be defined as separate CSS file in reference with \n",
    "# the className property.\n"
   ]
  },
  {
   "cell_type": "code",
   "execution_count": 65,
   "id": "491cd684-db2a-471a-8e4f-e24ece841a1d",
   "metadata": {},
   "outputs": [
    {
     "data": {
      "text/html": [
       "\n",
       "        <iframe\n",
       "            width=\"100%\"\n",
       "            height=\"650\"\n",
       "            src=\"http://127.0.0.1:8050/\"\n",
       "            frameborder=\"0\"\n",
       "            allowfullscreen\n",
       "            \n",
       "        ></iframe>\n",
       "        "
      ],
      "text/plain": [
       "<IPython.lib.display.IFrame at 0x7fb47f14d7f0>"
      ]
     },
     "metadata": {},
     "output_type": "display_data"
    }
   ],
   "source": [
    "# Import packages\n",
    "from dash import Dash,html,dcc,dash_table,callback,Output,Input\n",
    "import pandas as pd\n",
    "import plotly.express as px\n",
    "\n",
    "# Incorporating Data\n",
    "df = pd.read_csv(\"https://raw.githubusercontent.com/plotly/datasets/master/gapminder2007.csv\")\n",
    "\n",
    "\n",
    "# Intialise the app - incorporate css\n",
    "external_stylesheets = ['https://codepen.io/chriddyp/pen/bWLwgP.css']\n",
    "app = Dash(__name__,external_stylesheets=external_stylesheets)\n",
    "\n",
    "# App layout\n",
    "app.layout = html.Div([\n",
    "    html.Div(className = 'row',children = 'My first app with Data,Graph and Controls',style = {'textAlign':'center','color':'blue','fontsize':30}),\n",
    "    html.Div(className = 'row',children=[\n",
    "        dcc.RadioItems(options=['pop','lifeExp','gdpPercap'],value='lifeExp',inline=True,id='my-radio-buttons-final')\n",
    "    ]),\n",
    "    html.Div(className='row',children=[\n",
    "        html.Div(className='six columns',children=[\n",
    "            dash_table.DataTable(data=df.to_dict('records'),page_size=11,style_table={'overflowX':'auto'})                                                                               \n",
    "        ]),\n",
    "        html.Div(className='six columns',children=[\n",
    "            dcc.Graph(figure={},id='histo-chart-final')\n",
    "        ])\n",
    "    ])\n",
    "])\n",
    "\n",
    "\n",
    "# Add control to build the interaction\n",
    "@app.callback(Output(component_id='histo-chart-final',component_property='figure'),Input(component_id='my-radio-buttons-final',component_property='value'))\n",
    "def update_graph(col_chosen):\n",
    "    fig = px.histogram(df,x = 'continent',y = col_chosen,histfunc = 'avg')\n",
    "    return fig\n",
    "\n",
    "\n",
    "# Run the app\n",
    "if __name__=='__main__':\n",
    "    app.run(debug=True)"
   ]
  },
  {
   "cell_type": "code",
   "execution_count": null,
   "id": "7ca0b6e8-7b9e-41d7-8598-96258ea24562",
   "metadata": {},
   "outputs": [],
   "source": []
  },
  {
   "cell_type": "markdown",
   "id": "9528d206-03e3-4135-a837-57d3e7e8eddc",
   "metadata": {},
   "source": [
    "## Dash Design Kit(DDK)"
   ]
  },
  {
   "cell_type": "code",
   "execution_count": 5,
   "id": "4760f6d5-83ec-46a2-b15d-2a5f9c24a620",
   "metadata": {},
   "outputs": [],
   "source": [
    "# High level UI framework,using this we don't need HTML or CSS.\n",
    "# Apps are mobile responsive by default.\n",
    "# DDK is licensed as part of Dash enterprise and can't run without license"
   ]
  },
  {
   "cell_type": "code",
   "execution_count": 10,
   "id": "e711df76-829d-4fa4-9e60-9c13a7e03efb",
   "metadata": {},
   "outputs": [],
   "source": [
    "# !pip install dash-design-kit"
   ]
  },
  {
   "cell_type": "code",
   "execution_count": 11,
   "id": "d9247b14-c0d8-4eaa-b5c8-87d41b6a345a",
   "metadata": {},
   "outputs": [],
   "source": [
    "# Import packages\n",
    "from dash import Dash,html,dcc,Input,Output,dash_table,callback\n",
    "import pandas as pd\n",
    "import plotly.express as px\n",
    "# import dash_design_kit as ddk\n",
    "\n",
    "# won't work"
   ]
  },
  {
   "cell_type": "code",
   "execution_count": null,
   "id": "5f9fc858-8989-4f83-ad5a-82d8f0efa8de",
   "metadata": {},
   "outputs": [],
   "source": []
  },
  {
   "cell_type": "code",
   "execution_count": null,
   "id": "738811b1-1cc2-4e78-90cd-0f31b2ef7646",
   "metadata": {},
   "outputs": [],
   "source": []
  },
  {
   "cell_type": "code",
   "execution_count": null,
   "id": "3bc55c9e-82a5-4a3c-aeb5-99008e7c8369",
   "metadata": {},
   "outputs": [],
   "source": []
  },
  {
   "cell_type": "markdown",
   "id": "ce69aebc-163c-40be-8175-8f8573413b9f",
   "metadata": {},
   "source": [
    "## Dash Bootstrap Components"
   ]
  },
  {
   "cell_type": "code",
   "execution_count": 16,
   "id": "b71b41e3-21f5-4f8a-9458-b60fb3f84120",
   "metadata": {},
   "outputs": [],
   "source": [
    "# !pip install dash-bootstrap-components"
   ]
  },
  {
   "cell_type": "code",
   "execution_count": 13,
   "id": "5f8f0061-be5b-4f4e-ba5f-84480896f1c7",
   "metadata": {},
   "outputs": [],
   "source": [
    "# it's powerful way of building elegant app layouts.\n",
    "#We first define a row and then the width of columns inside the row, using the dbc.Row and dbc.Col components"
   ]
  },
  {
   "cell_type": "code",
   "execution_count": 15,
   "id": "ffb70f63-3f11-4a07-ad61-c8532f792aaa",
   "metadata": {},
   "outputs": [
    {
     "data": {
      "text/html": [
       "\n",
       "        <iframe\n",
       "            width=\"100%\"\n",
       "            height=\"650\"\n",
       "            src=\"http://127.0.0.1:8050/\"\n",
       "            frameborder=\"0\"\n",
       "            allowfullscreen\n",
       "            \n",
       "        ></iframe>\n",
       "        "
      ],
      "text/plain": [
       "<IPython.lib.display.IFrame at 0x7fb4d21def10>"
      ]
     },
     "metadata": {},
     "output_type": "display_data"
    }
   ],
   "source": [
    "# Importing the libraries\n",
    "from dash import Dash,html,dcc,callback,Input,Output,dash_table\n",
    "import pandas as pd\n",
    "import plotly.express as px\n",
    "import dash_bootstrap_components as dbc\n",
    "\n",
    "# Incorporating the Data\n",
    "df = pd.read_csv(\"https://raw.githubusercontent.com/plotly/datasets/master/gapminder2007.csv\")\n",
    "\n",
    "# Initialise the app - incorporate a Dash Bootstrap theme\n",
    "external_stylesheets = [dbc.themes.CERULEAN]\n",
    "app = Dash(__name__,external_stylesheets=external_stylesheets)\n",
    "\n",
    "# App layout\n",
    "app.layout = dbc.Container([\n",
    "    dbc.Row([\n",
    "        html.Div('My first app with Data,graph and controls',className='text-primary text-center fs-3')\n",
    "    ]),\n",
    "    dbc.Row([\n",
    "        dbc.RadioItems(options = [{\"label\":x,\"value\":x} for x in ['pop','lifeExp','gdpPercap']],value='lifeExp',inline=True,id='radio-buttons-final')\n",
    "    ]),\n",
    "    dbc.Row([\n",
    "        dbc.Col([\n",
    "            dash_table.DataTable(data=df.to_dict('records'),page_size=12,style_table={'overflowX': 'auto'})\n",
    "        ],width=6),\n",
    "        dbc.Col([\n",
    "            dcc.Graph(figure={},id='my-first-graph-final')\n",
    "        ],width=6),\n",
    "    ]),\n",
    "],fluid=True)\n",
    "\n",
    "\n",
    "# Add controls to build the interactions\n",
    "@app.callback(Output(component_id='my-first-graph-final',component_property='figure'),Input(component_id='radio-buttons-final',component_property='value'))\n",
    "def update_graph(col_chosen):\n",
    "    fig = px.histogram(df,x = 'continent',y = col_chosen,histfunc='avg')\n",
    "    return fig\n",
    "\n",
    "\n",
    "# Run the app\n",
    "if __name__=='__main__':\n",
    "    app.run(debug=True)"
   ]
  },
  {
   "cell_type": "code",
   "execution_count": null,
   "id": "3b04f704-653d-44ef-afb9-26f3a1c4d52d",
   "metadata": {},
   "outputs": [],
   "source": []
  },
  {
   "cell_type": "code",
   "execution_count": null,
   "id": "4fa667b3-0fac-477d-9071-c7888500bb34",
   "metadata": {},
   "outputs": [],
   "source": []
  },
  {
   "cell_type": "code",
   "execution_count": null,
   "id": "a15b50e3-188c-414d-8220-4411425def33",
   "metadata": {},
   "outputs": [],
   "source": []
  },
  {
   "cell_type": "code",
   "execution_count": null,
   "id": "bc28c829-61f3-4d3e-ba7a-f8ca133a5b3a",
   "metadata": {},
   "outputs": [],
   "source": []
  },
  {
   "cell_type": "code",
   "execution_count": null,
   "id": "c47ee9cb-6d88-497d-9652-28fe9a67b1ad",
   "metadata": {},
   "outputs": [],
   "source": []
  },
  {
   "cell_type": "code",
   "execution_count": null,
   "id": "01a1cd47-8a44-40ad-a2a6-da6471eacb75",
   "metadata": {},
   "outputs": [],
   "source": []
  },
  {
   "cell_type": "code",
   "execution_count": null,
   "id": "8345e3fd-c78c-4431-879d-7117a3a83adc",
   "metadata": {},
   "outputs": [],
   "source": []
  },
  {
   "cell_type": "code",
   "execution_count": null,
   "id": "66008311-45eb-40b2-ae72-d3c13cd01bd6",
   "metadata": {},
   "outputs": [],
   "source": []
  },
  {
   "cell_type": "markdown",
   "id": "ef4c40e5-0add-4333-be3c-b9cf5f1c60d6",
   "metadata": {},
   "source": [
    "# MY Data Practice"
   ]
  },
  {
   "cell_type": "code",
   "execution_count": 72,
   "id": "5a933648-4cfc-45af-ad35-ab5af05f7266",
   "metadata": {},
   "outputs": [
    {
     "data": {
      "text/html": [
       "\n",
       "        <iframe\n",
       "            width=\"100%\"\n",
       "            height=\"650\"\n",
       "            src=\"http://127.0.0.1:8050/\"\n",
       "            frameborder=\"0\"\n",
       "            allowfullscreen\n",
       "            \n",
       "        ></iframe>\n",
       "        "
      ],
      "text/plain": [
       "<IPython.lib.display.IFrame at 0x7fb4751df520>"
      ]
     },
     "metadata": {},
     "output_type": "display_data"
    }
   ],
   "source": [
    "from dash import html, Dash, dcc, Input, Output\n",
    "import pandas as pd\n",
    "import plotly.express as px\n",
    "\n",
    "# Importing Data\n",
    "df1 = pd.read_csv('./tpm_by_gene_DF_wtn_1.csv', header=1)\n",
    "\n",
    "app = Dash(__name__)\n",
    "\n",
    "gene_names = df1['Gene_Name'].unique()\n",
    "\n",
    "app.layout = html.Div([\n",
    "    html.H2(\"Gene Expression by Organ\"),\n",
    "    dcc.Dropdown(id=\"gene-dropdown\", options=[{'label': gene, 'value': gene} for gene in gene_names], placeholder=\"Select a Gene\"),\n",
    "    dcc.Dropdown(id=\"organ-dropdown\", options=[\n",
    "        {'label': 'Liver', 'value': 'Liver'},\n",
    "        {'label': 'Spleen', 'value': 'Spleen'},\n",
    "        {'label': 'Heart', 'value': 'Heart'},\n",
    "        {'label': 'Lung', 'value': 'Lung'}\n",
    "    ], placeholder=\"Select an organ\"),\n",
    "    dcc.Graph(id='data-table-container')\n",
    "])\n",
    "\n",
    "@app.callback(\n",
    "    Output(\"data-table-container\", \"figure\"),\n",
    "    [Input(\"organ-dropdown\", \"value\"),\n",
    "     Input(\"gene-dropdown\", \"value\")]\n",
    ")\n",
    "def manipulating_and_generating_graph(selected_organ, selected_gene):\n",
    "    if selected_organ is None or selected_gene is None:\n",
    "        return {}\n",
    "    else:\n",
    "        # Filter out columns for selected organ tissue samples\n",
    "        organ_columns = ['Gene_Name'] + [col for col in df1.columns if selected_organ in col]\n",
    "        organ_df = df1[organ_columns]\n",
    "        melted_df = pd.melt(organ_df, id_vars='Gene_Name', var_name='Tissue Type', value_name='Expression')\n",
    "        gene_data = melted_df[melted_df['Gene_Name'] == selected_gene] \n",
    "        fig = px.bar(gene_data, x='Tissue Type', y='Expression', color='Tissue Type')\n",
    "        fig.update_layout(title=f'Expression of {selected_gene} by Tissue Type', xaxis_title='Tissue Type', yaxis_title='Expression')\n",
    "        return fig\n",
    "\n",
    "if __name__ == \"__main__\":\n",
    "    app.run_server(debug=True)\n"
   ]
  },
  {
   "cell_type": "code",
   "execution_count": null,
   "id": "363e2942-4a91-48a5-bdd8-44cc495861ed",
   "metadata": {},
   "outputs": [],
   "source": []
  },
  {
   "cell_type": "code",
   "execution_count": null,
   "id": "4d4616b8-27d4-478f-a8af-e2efeff25f36",
   "metadata": {},
   "outputs": [],
   "source": []
  },
  {
   "cell_type": "code",
   "execution_count": null,
   "id": "790a3c1a-13fe-42bc-b28d-2f206ea20299",
   "metadata": {},
   "outputs": [],
   "source": []
  },
  {
   "cell_type": "code",
   "execution_count": null,
   "id": "a77b5476-4247-4d5b-b3b8-3f9f137fe181",
   "metadata": {},
   "outputs": [],
   "source": []
  },
  {
   "cell_type": "code",
   "execution_count": null,
   "id": "b0417936-bb35-494e-a88f-62ad27857ba2",
   "metadata": {},
   "outputs": [],
   "source": []
  },
  {
   "cell_type": "code",
   "execution_count": null,
   "id": "7591bcf6-1546-48fc-b8fb-514f02fb18fc",
   "metadata": {},
   "outputs": [],
   "source": []
  },
  {
   "cell_type": "code",
   "execution_count": null,
   "id": "cf91a648-de4e-4b66-8515-f4607f689449",
   "metadata": {},
   "outputs": [],
   "source": []
  },
  {
   "cell_type": "code",
   "execution_count": null,
   "id": "bca7ef34-ab9e-4ce3-85ee-25d5b8b0bb7e",
   "metadata": {},
   "outputs": [],
   "source": []
  },
  {
   "cell_type": "code",
   "execution_count": null,
   "id": "7092d85a-0e43-4f74-b34f-ee22cda6f520",
   "metadata": {},
   "outputs": [],
   "source": []
  }
 ],
 "metadata": {
  "kernelspec": {
   "display_name": "Python 3 (ipykernel)",
   "language": "python",
   "name": "python3"
  },
  "language_info": {
   "codemirror_mode": {
    "name": "ipython",
    "version": 3
   },
   "file_extension": ".py",
   "mimetype": "text/x-python",
   "name": "python",
   "nbconvert_exporter": "python",
   "pygments_lexer": "ipython3",
   "version": "3.8.18"
  }
 },
 "nbformat": 4,
 "nbformat_minor": 5
}
